{
 "cells": [
  {
   "cell_type": "code",
   "execution_count": 3,
   "id": "18330544",
   "metadata": {},
   "outputs": [],
   "source": [
    "import cv2\n",
    "import numpy as np\n",
    "import os\n",
    "from matplotlib import pyplot as plt\n",
    "import time\n",
    "import mediapipe as mp"
   ]
  },
  {
   "cell_type": "code",
   "execution_count": 4,
   "id": "bef53a6d",
   "metadata": {},
   "outputs": [],
   "source": [
    "mp_holistic = mp.solutions.holistic # Holistic model\n",
    "mp_drawing = mp.solutions.drawing_utils # Drawing utilities"
   ]
  },
  {
   "cell_type": "code",
   "execution_count": 5,
   "id": "69dc782b",
   "metadata": {},
   "outputs": [],
   "source": [
    "def mediapipe_detection(image, model):\n",
    "    image = cv2.cvtColor(image, cv2.COLOR_BGR2RGB) # COLOR CONVERSION BGR 2 RGB\n",
    "    image.flags.writeable = False                  # Image is no longer writeable\n",
    "    results = model.process(image)                 # Make prediction\n",
    "    image.flags.writeable = True                   # Image is now writeable \n",
    "    image = cv2.cvtColor(image, cv2.COLOR_RGB2BGR) # COLOR COVERSION RGB 2 BGR\n",
    "    return image, results"
   ]
  },
  {
   "cell_type": "code",
   "execution_count": 6,
   "id": "ed3e392a",
   "metadata": {},
   "outputs": [],
   "source": [
    "def draw_landmarks(image, results):\n",
    "    # mp_drawing.draw_landmarks(image, results.face_landmarks, mp_holistic.FACE_CONNECTIONS) # Draw face connections\n",
    "    mp_drawing.draw_landmarks(image, results.pose_landmarks, mp_holistic.POSE_CONNECTIONS) # Draw pose connections\n",
    "    mp_drawing.draw_landmarks(image, results.left_hand_landmarks, mp_holistic.HAND_CONNECTIONS) # Draw left hand connections\n",
    "    mp_drawing.draw_landmarks(image, results.right_hand_landmarks, mp_holistic.HAND_CONNECTIONS) # Draw right hand connections"
   ]
  },
  {
   "cell_type": "code",
   "execution_count": 7,
   "id": "5be87e80",
   "metadata": {},
   "outputs": [],
   "source": [
    "def draw_styled_landmarks(image, results):\n",
    "    # # Draw face connections\n",
    "    # mp_drawing.draw_landmarks(image, results.face_landmarks, mp_holistic.FACE_CONNECTIONS, \n",
    "    #                          mp_drawing.DrawingSpec(color=(80,110,10), thickness=1, circle_radius=1), \n",
    "    #                          mp_drawing.DrawingSpec(color=(80,256,121), thickness=1, circle_radius=1)\n",
    "    #                          ) \n",
    "    # Draw pose connections\n",
    "    mp_drawing.draw_landmarks(image, results.pose_landmarks, mp_holistic.POSE_CONNECTIONS,\n",
    "                             mp_drawing.DrawingSpec(color=(80,22,10), thickness=2, circle_radius=4), \n",
    "                             mp_drawing.DrawingSpec(color=(80,44,121), thickness=2, circle_radius=2)\n",
    "                             ) \n",
    "    # Draw left hand connections\n",
    "    mp_drawing.draw_landmarks(image, results.left_hand_landmarks, mp_holistic.HAND_CONNECTIONS, \n",
    "                             mp_drawing.DrawingSpec(color=(121,22,76), thickness=2, circle_radius=4), \n",
    "                             mp_drawing.DrawingSpec(color=(121,44,250), thickness=2, circle_radius=2)\n",
    "                             ) \n",
    "    # Draw right hand connections  \n",
    "    mp_drawing.draw_landmarks(image, results.right_hand_landmarks, mp_holistic.HAND_CONNECTIONS, \n",
    "                             mp_drawing.DrawingSpec(color=(245,117,66), thickness=2, circle_radius=4), \n",
    "                             mp_drawing.DrawingSpec(color=(245,66,230), thickness=2, circle_radius=2)\n",
    "                             ) "
   ]
  },
  {
   "cell_type": "code",
   "execution_count": 8,
   "id": "9633f1aa",
   "metadata": {},
   "outputs": [],
   "source": [
    "def extract_keypoints(results):\n",
    "    pose = np.array([[res.x, res.y, res.z, res.visibility] for res in results.pose_landmarks.landmark]).flatten() if results.pose_landmarks else np.zeros(33*4)\n",
    "    # face = np.array([[res.x, res.y, res.z] for res in results.face_landmarks.landmark]).flatten() if results.face_landmarks else np.zeros(468*3)\n",
    "    lh = np.array([[res.x, res.y, res.z] for res in results.left_hand_landmarks.landmark]).flatten() if results.left_hand_landmarks else np.zeros(21*3)\n",
    "    rh = np.array([[res.x, res.y, res.z] for res in results.right_hand_landmarks.landmark]).flatten() if results.right_hand_landmarks else np.zeros(21*3)\n",
    "    return np.concatenate([pose, lh, rh])"
   ]
  },
  {
   "cell_type": "code",
   "execution_count": 14,
   "id": "826b43be",
   "metadata": {},
   "outputs": [
    {
     "name": "stdout",
     "output_type": "stream",
     "text": [
      "['a', 'afternoon', 'again', 'bye', 'd', 'deaf', 'dont_understand', 'e', 'evening', 'fast', 'fine', 'good', 'h', 'hearing', 'hello', 'how', 'how_much', 'job', 'later', 'maybe', 'morning', 'my_name_is', 'n', 'name', 'nice_to_meet', 'night', 'no', 'now', 'no_sign', 'p', 'please', 'see you', 'sign_language', 'slow', 'sorry', 'take_care', 'thank_you', 'today', 'tomorrow', 'understand', 'wait', 'welcome', 'what', 'when', 'where', 'who', 'why', 'yes', 'yesterday', 'you']\n"
     ]
    }
   ],
   "source": [
    "import os\n",
    "\n",
    "folder_path = r\"D:\\MP_DataRecorded\"\n",
    "\n",
    "# Get only folder names\n",
    "folders = [name for name in os.listdir(folder_path) if os.path.isdir(os.path.join(folder_path, name))]\n",
    "\n",
    "print(folders)  # This will print a list of folder names\n"
   ]
  },
  {
   "cell_type": "code",
   "execution_count": null,
   "id": "c324d41f",
   "metadata": {},
   "outputs": [],
   "source": [
    "# Path for exported data, numpy arrays\n",
    "DATA_PATH = r\"D:\\MP_DataRecorded\" \n",
    "\n",
    "# Actions that we try to detect\n",
    "actions = np.array(['afternoon', 'again', 'bye', 'deaf', 'dont_understand', 'evening', 'fast', 'fine', 'good', 'hello', 'how', 'how_much', 'job', 'later', 'maybe', 'morning', 'name', 'nice_to_meet', 'night', 'no', 'no_sign', 'please', 'see you', 'sign_language', 'slow', 'sorry', 'take_care', 'thank_you', 'today', 'tomorrow', 'understand', 'wait', 'welcome', 'what', 'when', 'where', 'who', 'why', 'which', 'yes', 'yesterday', 'you'])\n",
    "\n",
    "# 160 videos worth of data\n",
    "no_sequences = 160 #change depending on how many videos you have in each folder\n",
    "\n",
    "# Videos are going to be 60 frames in length\n",
    "sequence_length = 60 #change to 30 or 40 for faster detection\n",
    "\n",
    "# Folder start\n",
    "# start_folder = 40"
   ]
  },
  {
   "cell_type": "code",
   "execution_count": 13,
   "id": "f13fb3f8",
   "metadata": {},
   "outputs": [
    {
     "data": {
      "text/plain": [
       "(1,)"
      ]
     },
     "execution_count": 13,
     "metadata": {},
     "output_type": "execute_result"
    }
   ],
   "source": [
    "actions.shape"
   ]
  },
  {
   "cell_type": "code",
   "execution_count": null,
   "id": "ff5f9dd1",
   "metadata": {},
   "outputs": [],
   "source": [
    "for action in actions: \n",
    "    for sequence in range(no_sequences):\n",
    "        try: \n",
    "            os.makedirs(os.path.join(DATA_PATH, action, str(sequence)))\n",
    "        except:\n",
    "            pass"
   ]
  },
  {
   "cell_type": "code",
   "execution_count": null,
   "id": "a3402950",
   "metadata": {},
   "outputs": [],
   "source": [
    "# ------- code to test mediapipipe -------------\n",
    "# cap = cv2.VideoCapture(1)\n",
    "# # Set mediapipe model \n",
    "# with mp_holistic.Holistic(min_detection_confidence=0.5, min_tracking_confidence=0.5) as holistic:\n",
    "#     while cap.isOpened():\n",
    "\n",
    "#         # Read feed\n",
    "#         ret, frame = cap.read()\n",
    "\n",
    "#         # rotate into portrait (90° CCW)\n",
    "#         frame = cv2.rotate(frame, cv2.ROTATE_90_CLOCKWISE)\n",
    "\n",
    "#         # Make detections\n",
    "#         image, results = mediapipe_detection(frame, holistic)\n",
    "#         print(results)\n",
    "        \n",
    "#         # Draw landmarks\n",
    "#         draw_styled_landmarks(image, results)\n",
    "\n",
    "#         # Show to screen\n",
    "#         cv2.imshow('OpenCV Feed', image)\n",
    "\n",
    "#         # Break gracefully\n",
    "#         if cv2.waitKey(10) & 0xFF == ord('q'):\n",
    "#             break\n",
    "#     cap.release()\n",
    "#     cv2.destroyAllWindows()"
   ]
  },
  {
   "cell_type": "code",
   "execution_count": 16,
   "id": "b357323e",
   "metadata": {},
   "outputs": [],
   "source": [
    "cap = cv2.VideoCapture(1)\n",
    " \n",
    "with mp_holistic.Holistic(min_detection_confidence=0.5, min_tracking_confidence=0.5) as holistic:\n",
    "    \n",
    "    # Loop through actions\n",
    "    for action in actions:\n",
    "        # Loop through sequences aka videos\n",
    "        for sequence in range(start_folder, start_folder+no_sequences):\n",
    "            frame_num = 0  # Initialize frame_num outside the inner loop\n",
    "            paused = False  # Flag to track pause state\n",
    "            \n",
    "            while frame_num < sequence_length:  # Changed to while loop for restart functionality\n",
    "                # Handle paused state\n",
    "                if paused:\n",
    "                    # Create a copy of the last frame to display pause message\n",
    "                    pause_frame = image.copy()\n",
    "                    cv2.putText(pause_frame, 'PAUSED', (220, 200), \n",
    "                               cv2.FONT_HERSHEY_SIMPLEX, 1, (0, 0, 255), 4, cv2.LINE_AA)\n",
    "                    cv2.putText(pause_frame, 'Press C to continue', (180, 230), \n",
    "                               cv2.FONT_HERSHEY_SIMPLEX, 0.75, (0, 0, 255), 2, cv2.LINE_AA)\n",
    "                    cv2.imshow('OpenCV Feed', pause_frame)\n",
    "                    \n",
    "                    # Check for key presses while paused\n",
    "                    key = cv2.waitKey(10) & 0xFF\n",
    "                    if key == ord('c'):  # Continue collection\n",
    "                        paused = False\n",
    "                    elif key == ord('q'):  # Quit\n",
    "                        break\n",
    "                    continue  # Skip the rest of the loop while paused\n",
    "                \n",
    "                # Read feed\n",
    "                ret, frame = cap.read()\n",
    "                # rotate into portrait (90° CCW)\n",
    "                frame = cv2.rotate(frame, cv2.ROTATE_90_CLOCKWISE)\n",
    "                # Make detections\n",
    "                image, results = mediapipe_detection(frame, holistic)\n",
    "\n",
    "                # Draw landmarks\n",
    "                draw_styled_landmarks(image, results)\n",
    "                \n",
    "                # Apply wait logic\n",
    "                if frame_num == 0: \n",
    "                    cv2.putText(image, 'STARTING COLLECTION', (120,200), \n",
    "                               cv2.FONT_HERSHEY_SIMPLEX, 1, (0,255, 0), 4, cv2.LINE_AA)\n",
    "                    cv2.putText(image, 'Collecting frames for {} Video Number {}'.format(action, sequence), (15,12), \n",
    "                               cv2.FONT_HERSHEY_SIMPLEX, 0.5, (0, 0, 255), 1, cv2.LINE_AA)\n",
    "                    # Show to screen\n",
    "                    cv2.imshow('OpenCV Feed', image)\n",
    "                    cv2.waitKey(5000)\n",
    "                else: \n",
    "                    cv2.putText(image, 'Collecting frames for {} Video Number {}'.format(action, sequence), (15,12), \n",
    "                               cv2.FONT_HERSHEY_SIMPLEX, 0.5, (0, 0, 255), 1, cv2.LINE_AA)\n",
    "                    \n",
    "                    # Add frame counter display\n",
    "                    cv2.putText(image, 'Frame: {}/{}'.format(frame_num, sequence_length-1), (15,30), \n",
    "                               cv2.FONT_HERSHEY_SIMPLEX, 0.5, (0, 0, 255), 1, cv2.LINE_AA)\n",
    "                    \n",
    "                    # Add instructions for controls\n",
    "                    cv2.putText(image, 'R: Restart | P: Pause | C: Continue | Q: Quit', (15,50), \n",
    "                               cv2.FONT_HERSHEY_SIMPLEX, 0.5, (255, 0, 0), 1, cv2.LINE_AA)\n",
    "                    \n",
    "                    # Show to screen\n",
    "                    cv2.imshow('OpenCV Feed', image)\n",
    "                \n",
    "                # Export keypoints\n",
    "                keypoints = extract_keypoints(results)\n",
    "                npy_path = os.path.join(DATA_PATH, action, str(sequence), str(frame_num))\n",
    "                np.save(npy_path, keypoints)\n",
    "\n",
    "                # Handle key presses\n",
    "                key = cv2.waitKey(10) & 0xFF\n",
    "                if key == ord('q'):  # Quit if 'q' is pressed\n",
    "                    break\n",
    "                elif key == ord('r'):  # Restart current sequence if 'r' is pressed\n",
    "                    frame_num = 0  # Reset frame counter\n",
    "                    # Optional: Display restart message\n",
    "                    restart_frame = image.copy()\n",
    "                    cv2.putText(restart_frame, 'RESTARTING SEQUENCE', (120,200), \n",
    "                               cv2.FONT_HERSHEY_SIMPLEX, 1, (0,0,255), 4, cv2.LINE_AA)\n",
    "                    cv2.imshow('OpenCV Feed', restart_frame)\n",
    "                    cv2.waitKey(1000)  # Brief pause to show restart message\n",
    "                    continue  # Skip the frame_num increment\n",
    "                elif key == ord('p'):  # Pause collection if 'p' is pressed\n",
    "                    paused = True\n",
    "                    continue  # Skip frame increment\n",
    "                \n",
    "                frame_num += 1  # Increment frame counter\n",
    "            \n",
    "            # Check if we need to break out of all loops (if q was pressed)\n",
    "            if key == ord('q'):\n",
    "                break\n",
    "        \n",
    "        # Check if we need to break out of all loops (if q was pressed)\n",
    "        if key == ord('q'):\n",
    "            break\n",
    "                    \n",
    "    cap.release()\n",
    "    cv2.destroyAllWindows()"
   ]
  },
  {
   "cell_type": "code",
   "execution_count": 11,
   "id": "ca67110d",
   "metadata": {},
   "outputs": [],
   "source": [
    "cap.release()\n",
    "cv2.destroyAllWindows()"
   ]
  },
  {
   "cell_type": "code",
   "execution_count": 18,
   "id": "f0584fa6",
   "metadata": {},
   "outputs": [],
   "source": [
    "from sklearn.model_selection import train_test_split\n",
    "from tensorflow.keras.utils import to_categorical\n",
    "\n",
    "label_map = {label:num for num, label in enumerate(actions)}"
   ]
  },
  {
   "cell_type": "code",
   "execution_count": 19,
   "id": "9fd725de",
   "metadata": {},
   "outputs": [
    {
     "data": {
      "text/plain": [
       "{'afternoon': 0,\n",
       " 'again': 1,\n",
       " 'bye': 2,\n",
       " 'deaf': 3,\n",
       " 'dont_understand': 4,\n",
       " 'evening': 5,\n",
       " 'fast': 6,\n",
       " 'fine': 7,\n",
       " 'good': 8,\n",
       " 'hello': 9,\n",
       " 'how': 10,\n",
       " 'how_much': 11,\n",
       " 'job': 12,\n",
       " 'later': 13,\n",
       " 'maybe': 14,\n",
       " 'morning': 15,\n",
       " 'name': 16,\n",
       " 'nice_to_meet': 17,\n",
       " 'night': 18,\n",
       " 'no': 19,\n",
       " 'no_sign': 20,\n",
       " 'please': 21,\n",
       " 'see you': 22,\n",
       " 'sign_language': 23,\n",
       " 'slow': 24,\n",
       " 'sorry': 25,\n",
       " 'take_care': 26,\n",
       " 'thank_you': 27,\n",
       " 'today': 28,\n",
       " 'tomorrow': 29,\n",
       " 'understand': 30,\n",
       " 'wait': 31,\n",
       " 'welcome': 32,\n",
       " 'what': 33,\n",
       " 'when': 34,\n",
       " 'where': 35,\n",
       " 'who': 36,\n",
       " 'why': 37,\n",
       " 'which': 38,\n",
       " 'yes': 39,\n",
       " 'yesterday': 40,\n",
       " 'you': 41}"
      ]
     },
     "execution_count": 19,
     "metadata": {},
     "output_type": "execute_result"
    }
   ],
   "source": [
    "label_map"
   ]
  },
  {
   "cell_type": "code",
   "execution_count": 22,
   "id": "d8ddcb57",
   "metadata": {},
   "outputs": [
    {
     "name": "stdout",
     "output_type": "stream",
     "text": [
      "afternoon\n",
      "again\n",
      "bye\n",
      "deaf\n",
      "dont_understand\n",
      "evening\n",
      "fast\n",
      "fine\n",
      "good\n",
      "hello\n",
      "how\n",
      "how_much\n",
      "job\n",
      "later\n",
      "maybe\n",
      "morning\n",
      "name\n",
      "nice_to_meet\n",
      "night\n",
      "no\n",
      "no_sign\n",
      "please\n",
      "see you\n",
      "sign_language\n",
      "slow\n",
      "sorry\n",
      "take_care\n",
      "thank_you\n",
      "today\n",
      "tomorrow\n",
      "understand\n",
      "wait\n",
      "welcome\n",
      "what\n",
      "when\n",
      "where\n",
      "who\n",
      "why\n",
      "which\n",
      "yes\n",
      "yesterday\n",
      "you\n"
     ]
    }
   ],
   "source": [
    "sequences, labels = [], []\n",
    "for action in actions:\n",
    "    print(action)\n",
    "    for sequence in range(no_sequences):\n",
    "        window = []\n",
    "        for frame_num in range(sequence_length):\n",
    "            res = np.load(os.path.join(DATA_PATH, action, str(sequence), \"{}.npy\".format(frame_num)))\n",
    "            window.append(res)\n",
    "        sequences.append(window)\n",
    "        labels.append(label_map[action])"
   ]
  },
  {
   "cell_type": "code",
   "execution_count": 23,
   "id": "09335d48",
   "metadata": {},
   "outputs": [],
   "source": [
    "X = np.array(sequences)"
   ]
  },
  {
   "cell_type": "code",
   "execution_count": 24,
   "id": "7abea5c0",
   "metadata": {},
   "outputs": [
    {
     "data": {
      "text/plain": [
       "(6720, 60, 258)"
      ]
     },
     "execution_count": 24,
     "metadata": {},
     "output_type": "execute_result"
    }
   ],
   "source": [
    "X.shape"
   ]
  },
  {
   "cell_type": "code",
   "execution_count": 25,
   "id": "3d63012b",
   "metadata": {},
   "outputs": [],
   "source": [
    "y = to_categorical(labels).astype(int)"
   ]
  },
  {
   "cell_type": "code",
   "execution_count": 26,
   "id": "ddc241c0",
   "metadata": {},
   "outputs": [],
   "source": [
    "np.save('X.npy', X)\n",
    "np.save('y.npy', y)"
   ]
  }
 ],
 "metadata": {
  "kernelspec": {
   "display_name": "Python 3",
   "language": "python",
   "name": "python3"
  },
  "language_info": {
   "codemirror_mode": {
    "name": "ipython",
    "version": 3
   },
   "file_extension": ".py",
   "mimetype": "text/x-python",
   "name": "python",
   "nbconvert_exporter": "python",
   "pygments_lexer": "ipython3",
   "version": "3.9.13"
  }
 },
 "nbformat": 4,
 "nbformat_minor": 5
}
